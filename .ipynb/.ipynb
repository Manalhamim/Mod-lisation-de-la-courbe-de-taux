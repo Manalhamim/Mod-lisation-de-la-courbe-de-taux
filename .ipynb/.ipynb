{
 "cells": [
  {
   "cell_type": "code",
   "execution_count": 2,
   "metadata": {},
   "outputs": [],
   "source": [
    "import re\n",
    "import requests\n",
    "from bs4 import BeautifulSoup\n",
    "import pandas as pd,numpy as np"
   ]
  },
  {
   "cell_type": "markdown",
   "metadata": {},
   "source": [
    "## Scrapping the data"
   ]
  },
  {
   "cell_type": "code",
   "execution_count": 7,
   "metadata": {},
   "outputs": [],
   "source": [
    "yield_data = []\n",
    "from_year=2001\n",
    "to_year=2023\n",
    "for i in range(from_year,to_year+1):\n",
    "    url = f\"https://home.treasury.gov/resource-center/data-chart-center/interest-rates/TextView?type=daily_treasury_yield_curve&field_tdr_date_value={i}\"\n",
    "    response = requests.get(url)\n",
    "    soup = BeautifulSoup(response.content, \"html.parser\")\n",
    "\n",
    "\n",
    "    table = soup.find(\"table\")\n",
    "    rows = table.find_all(\"tr\")\n",
    "\n",
    "    yield_data+=list(map(lambda x:re.sub(r' +',\"\",x.text.replace('N/A','')),rows))\n",
    "    yield_data"
   ]
  },
  {
   "cell_type": "markdown",
   "metadata": {},
   "source": [
    "## Data Cleaning"
   ]
  },
  {
   "cell_type": "code",
   "execution_count": 1,
   "metadata": {},
   "outputs": [
    {
     "ename": "NameError",
     "evalue": "name 'pd' is not defined",
     "output_type": "error",
     "traceback": [
      "\u001b[1;31m---------------------------------------------------------------------------\u001b[0m",
      "\u001b[1;31mNameError\u001b[0m                                 Traceback (most recent call last)",
      "\u001b[1;32mc:\\Users\\amine\\OneDrive\\Documents\\ICT Trading\\Yield curve\\.ipynb Cell 5\u001b[0m line \u001b[0;36m1\n\u001b[1;32m----> <a href='vscode-notebook-cell:/c%3A/Users/amine/OneDrive/Documents/ICT%20Trading/Yield%20curve/.ipynb#W4sZmlsZQ%3D%3D?line=0'>1</a>\u001b[0m df\u001b[39m=\u001b[39mpd\u001b[39m.\u001b[39mDataFrame([sub\u001b[39m.\u001b[39msplit(\u001b[39m'\u001b[39m\u001b[39m\\n\u001b[39;00m\u001b[39m'\u001b[39m) \u001b[39mfor\u001b[39;00m sub \u001b[39min\u001b[39;00m yield_data])\u001b[39m.\u001b[39mdrop_duplicates()                                  \u001b[39m# Creating a DataFrame from the yield data and dropping any duplicate rows\u001b[39;00m\n\u001b[0;32m      <a href='vscode-notebook-cell:/c%3A/Users/amine/OneDrive/Documents/ICT%20Trading/Yield%20curve/.ipynb#W4sZmlsZQ%3D%3D?line=1'>2</a>\u001b[0m new_header \u001b[39m=\u001b[39m df\u001b[39m.\u001b[39miloc[\u001b[39m0\u001b[39m]                                                                                     \u001b[39m# Selecting the first row as the new column headers\u001b[39;00m\n\u001b[0;32m      <a href='vscode-notebook-cell:/c%3A/Users/amine/OneDrive/Documents/ICT%20Trading/Yield%20curve/.ipynb#W4sZmlsZQ%3D%3D?line=2'>3</a>\u001b[0m df \u001b[39m=\u001b[39m df[\u001b[39m1\u001b[39m:]                                                                                                 \u001b[39m# Excluding the first row from the DataFrame as it is used for column headers\u001b[39;00m\n",
      "\u001b[1;31mNameError\u001b[0m: name 'pd' is not defined"
     ]
    }
   ],
   "source": [
    "df=pd.DataFrame([sub.split('\\n') for sub in yield_data]).drop_duplicates()                                   # Creating a DataFrame from the yield data and dropping any duplicate rows\n",
    "new_header = df.iloc[0]                                                                                      # Selecting the first row as the new column headers\n",
    "df = df[1:]                                                                                                  # Excluding the first row from the DataFrame as it is used for column headers\n",
    "df.columns = new_header                                                                                      # Assigning the first row as the column headers\n",
    "df['Date']=pd.to_datetime(df['Date'])                                                                        # Converting the 'Date' column to datetime format\n",
    "df.set_index('Date', inplace=True)                                                                           # Setting the 'Date' column as the index of the DataFrame\n",
    "df=df.replace('',pd.NA).dropna(how='all', axis=1)                                                            # Replacing empty strings with NA and dropping columns where all values are NA\n",
    "df.columns = [\"1 Mo\",'2 Mo','3 Mo','4 Mo','6 Mo','1 Yr','2 Yr','3 Yr','5 Yr','7 Yr','10 Yr','20 Yr','30 Yr'] # Renaming the columns for clarity\n",
    "df=df.apply(pd.to_numeric)                                                                                   # Converting all columns to numeric data type\n",
    "df \n"
   ]
  },
  {
   "cell_type": "code",
   "execution_count": null,
   "metadata": {},
   "outputs": [],
   "source": [
    "df"
   ]
  },
  {
   "cell_type": "code",
   "execution_count": 9,
   "metadata": {},
   "outputs": [],
   "source": [
    "df.to_csv(f'yield_curve{from_year}-{to_year}.csv')"
   ]
  }
 ],
 "metadata": {
  "kernelspec": {
   "display_name": ".venv",
   "language": "python",
   "name": "python3"
  },
  "language_info": {
   "codemirror_mode": {
    "name": "ipython",
    "version": 3
   },
   "file_extension": ".py",
   "mimetype": "text/x-python",
   "name": "python",
   "nbconvert_exporter": "python",
   "pygments_lexer": "ipython3",
   "version": "3.11.5"
  }
 },
 "nbformat": 4,
 "nbformat_minor": 2
}
